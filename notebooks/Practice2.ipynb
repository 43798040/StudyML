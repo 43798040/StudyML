{
 "cells": [
  {
   "cell_type": "code",
   "execution_count": 5,
   "metadata": {},
   "outputs": [
    {
     "name": "stdout",
     "output_type": "stream",
     "text": [
      "             0         1          2         3  4\n",
      "0     3.621600   8.66610  -2.807300 -0.446990  0\n",
      "1     4.545900   8.16740  -2.458600 -1.462100  0\n",
      "2     3.866000  -2.63830   1.924200  0.106450  0\n",
      "3     3.456600   9.52280  -4.011200 -3.594400  0\n",
      "4     0.329240  -4.45520   4.571800 -0.988800  0\n",
      "5     4.368400   9.67180  -3.960600 -3.162500  0\n",
      "6     3.591200   3.01290   0.728880  0.564210  0\n",
      "7     2.092200  -6.81000   8.463600 -0.602160  0\n",
      "8     3.203200   5.75880  -0.753450 -0.612510  0\n",
      "9     1.535600   9.17720  -2.271800 -0.735350  0\n",
      "10    1.224700   8.77790  -2.213500 -0.806470  0\n",
      "11    3.989900  -2.70660   2.394600  0.862910  0\n",
      "12    1.899300   7.66250   0.153940 -3.110800  0\n",
      "13   -1.576800  10.84300   2.546200 -2.936200  0\n",
      "14    3.404000   8.72610  -2.991500 -0.572420  0\n",
      "15    4.676500  -3.38950   3.489600  1.477100  0\n",
      "16    2.671900   3.06460   0.371580  0.586190  0\n",
      "17    0.803550   2.84730   4.343900  0.601700  0\n",
      "18    1.447900  -4.87940   8.342800 -2.108600  0\n",
      "19    5.242300  11.02720  -4.353000 -4.101300  0\n",
      "20    5.786700   7.89020  -2.619600 -0.487080  0\n",
      "21    0.329200  -4.45520   4.571800 -0.988800  0\n",
      "22    3.936200  10.16220  -3.823500 -4.017200  0\n",
      "23    0.935840   8.88550  -1.683100 -1.659900  0\n",
      "24    4.433800   9.88700  -4.679500 -3.748300  0\n",
      "25    0.705700  -5.49810   8.336800 -2.871500  0\n",
      "26    1.143200  -3.74130   5.577700 -0.635780  0\n",
      "27   -0.382140   8.39090   2.162400 -3.740500  0\n",
      "28    6.563300   9.81870  -4.411300 -3.225800  0\n",
      "29    4.890600  -3.35840   3.420200  1.090500  0\n",
      "...        ...       ...        ...       ... ..\n",
      "1342 -1.747900  -5.82300   5.869900  1.212000  1\n",
      "1343 -0.959230  -6.71280   4.985700  0.328860  1\n",
      "1344  1.345100   0.23589  -1.878500  1.325800  1\n",
      "1345  2.227900   4.09510  -4.803700 -2.111200  1\n",
      "1346  1.257200   4.87310  -5.286100 -5.874100  1\n",
      "1347 -5.385700   9.12140  -0.419290 -5.918100  1\n",
      "1348 -2.978600   2.34450   0.526670 -0.401730  1\n",
      "1349 -1.585100  -2.15620   1.708200  0.901700  1\n",
      "1350 -0.218880  -2.20380  -0.095400  0.564210  1\n",
      "1351  1.318300   1.90170  -3.311100  0.065071  1\n",
      "1352  1.489600   3.42880  -4.030900 -1.425900  1\n",
      "1353  0.115920   3.22190  -3.430200 -2.845700  1\n",
      "1354 -3.392400   3.35640  -0.720040 -3.523300  1\n",
      "1355 -6.163200   8.70960  -0.216210 -3.634500  1\n",
      "1356 -4.078600   2.92390   0.870260 -0.653890  1\n",
      "1357 -2.589900  -0.39110   0.934520  0.429720  1\n",
      "1358 -1.011600  -0.19038  -0.905970  0.003003  1\n",
      "1359  0.066129   2.49140  -2.940100 -0.621560  1\n",
      "1360 -0.247450   1.93680  -2.469700 -0.805180  1\n",
      "1361 -1.573200   1.06360  -0.712320 -0.838800  1\n",
      "1362 -2.166800   1.59330   0.045122 -1.678000  1\n",
      "1363 -1.166700  -1.42370   2.924100  0.661190  1\n",
      "1364 -2.839100  -6.63000  10.484900 -0.421130  1\n",
      "1365 -4.504600  -5.81260  10.886700 -0.528460  1\n",
      "1366 -2.410000   3.74330  -0.402150 -1.295300  1\n",
      "1367  0.406140   1.34920  -1.450100 -0.559490  1\n",
      "1368 -1.388700  -4.87730   6.477400  0.341790  1\n",
      "1369 -3.750300 -13.45860  17.593200 -2.777100  1\n",
      "1370 -3.563700  -8.38270  12.393000 -1.282300  1\n",
      "1371 -2.541900  -0.65804   2.684200  1.195200  1\n",
      "\n",
      "[1372 rows x 5 columns]\n",
      "(1372, 5)\n"
     ]
    }
   ],
   "source": [
    "import pandas\n",
    "data = pandas.read_csv(\"../data/data_banknote_authentication.txt\", header=None, sep=\",\", decimal=\".\")\n",
    "print(data)\n",
    "print(data.shape)"
   ]
  },
  {
   "cell_type": "code",
   "execution_count": 8,
   "metadata": {},
   "outputs": [
    {
     "name": "stdout",
     "output_type": "stream",
     "text": [
      "             0         1          2         3\n",
      "0     3.621600   8.66610  -2.807300 -0.446990\n",
      "1     4.545900   8.16740  -2.458600 -1.462100\n",
      "2     3.866000  -2.63830   1.924200  0.106450\n",
      "3     3.456600   9.52280  -4.011200 -3.594400\n",
      "4     0.329240  -4.45520   4.571800 -0.988800\n",
      "5     4.368400   9.67180  -3.960600 -3.162500\n",
      "6     3.591200   3.01290   0.728880  0.564210\n",
      "7     2.092200  -6.81000   8.463600 -0.602160\n",
      "8     3.203200   5.75880  -0.753450 -0.612510\n",
      "9     1.535600   9.17720  -2.271800 -0.735350\n",
      "10    1.224700   8.77790  -2.213500 -0.806470\n",
      "11    3.989900  -2.70660   2.394600  0.862910\n",
      "12    1.899300   7.66250   0.153940 -3.110800\n",
      "13   -1.576800  10.84300   2.546200 -2.936200\n",
      "14    3.404000   8.72610  -2.991500 -0.572420\n",
      "15    4.676500  -3.38950   3.489600  1.477100\n",
      "16    2.671900   3.06460   0.371580  0.586190\n",
      "17    0.803550   2.84730   4.343900  0.601700\n",
      "18    1.447900  -4.87940   8.342800 -2.108600\n",
      "19    5.242300  11.02720  -4.353000 -4.101300\n",
      "20    5.786700   7.89020  -2.619600 -0.487080\n",
      "21    0.329200  -4.45520   4.571800 -0.988800\n",
      "22    3.936200  10.16220  -3.823500 -4.017200\n",
      "23    0.935840   8.88550  -1.683100 -1.659900\n",
      "24    4.433800   9.88700  -4.679500 -3.748300\n",
      "25    0.705700  -5.49810   8.336800 -2.871500\n",
      "26    1.143200  -3.74130   5.577700 -0.635780\n",
      "27   -0.382140   8.39090   2.162400 -3.740500\n",
      "28    6.563300   9.81870  -4.411300 -3.225800\n",
      "29    4.890600  -3.35840   3.420200  1.090500\n",
      "...        ...       ...        ...       ...\n",
      "1342 -1.747900  -5.82300   5.869900  1.212000\n",
      "1343 -0.959230  -6.71280   4.985700  0.328860\n",
      "1344  1.345100   0.23589  -1.878500  1.325800\n",
      "1345  2.227900   4.09510  -4.803700 -2.111200\n",
      "1346  1.257200   4.87310  -5.286100 -5.874100\n",
      "1347 -5.385700   9.12140  -0.419290 -5.918100\n",
      "1348 -2.978600   2.34450   0.526670 -0.401730\n",
      "1349 -1.585100  -2.15620   1.708200  0.901700\n",
      "1350 -0.218880  -2.20380  -0.095400  0.564210\n",
      "1351  1.318300   1.90170  -3.311100  0.065071\n",
      "1352  1.489600   3.42880  -4.030900 -1.425900\n",
      "1353  0.115920   3.22190  -3.430200 -2.845700\n",
      "1354 -3.392400   3.35640  -0.720040 -3.523300\n",
      "1355 -6.163200   8.70960  -0.216210 -3.634500\n",
      "1356 -4.078600   2.92390   0.870260 -0.653890\n",
      "1357 -2.589900  -0.39110   0.934520  0.429720\n",
      "1358 -1.011600  -0.19038  -0.905970  0.003003\n",
      "1359  0.066129   2.49140  -2.940100 -0.621560\n",
      "1360 -0.247450   1.93680  -2.469700 -0.805180\n",
      "1361 -1.573200   1.06360  -0.712320 -0.838800\n",
      "1362 -2.166800   1.59330   0.045122 -1.678000\n",
      "1363 -1.166700  -1.42370   2.924100  0.661190\n",
      "1364 -2.839100  -6.63000  10.484900 -0.421130\n",
      "1365 -4.504600  -5.81260  10.886700 -0.528460\n",
      "1366 -2.410000   3.74330  -0.402150 -1.295300\n",
      "1367  0.406140   1.34920  -1.450100 -0.559490\n",
      "1368 -1.388700  -4.87730   6.477400  0.341790\n",
      "1369 -3.750300 -13.45860  17.593200 -2.777100\n",
      "1370 -3.563700  -8.38270  12.393000 -1.282300\n",
      "1371 -2.541900  -0.65804   2.684200  1.195200\n",
      "\n",
      "[1372 rows x 4 columns]\n",
      "(1372, 4)\n"
     ]
    }
   ],
   "source": [
    "X = data[[0, 1, 2, 3]]\n",
    "print(X)\n",
    "print(X.shape)"
   ]
  },
  {
   "cell_type": "code",
   "execution_count": 9,
   "metadata": {},
   "outputs": [
    {
     "name": "stdout",
     "output_type": "stream",
     "text": [
      "      4\n",
      "0     0\n",
      "1     0\n",
      "2     0\n",
      "3     0\n",
      "4     0\n",
      "5     0\n",
      "6     0\n",
      "7     0\n",
      "8     0\n",
      "9     0\n",
      "10    0\n",
      "11    0\n",
      "12    0\n",
      "13    0\n",
      "14    0\n",
      "15    0\n",
      "16    0\n",
      "17    0\n",
      "18    0\n",
      "19    0\n",
      "20    0\n",
      "21    0\n",
      "22    0\n",
      "23    0\n",
      "24    0\n",
      "25    0\n",
      "26    0\n",
      "27    0\n",
      "28    0\n",
      "29    0\n",
      "...  ..\n",
      "1342  1\n",
      "1343  1\n",
      "1344  1\n",
      "1345  1\n",
      "1346  1\n",
      "1347  1\n",
      "1348  1\n",
      "1349  1\n",
      "1350  1\n",
      "1351  1\n",
      "1352  1\n",
      "1353  1\n",
      "1354  1\n",
      "1355  1\n",
      "1356  1\n",
      "1357  1\n",
      "1358  1\n",
      "1359  1\n",
      "1360  1\n",
      "1361  1\n",
      "1362  1\n",
      "1363  1\n",
      "1364  1\n",
      "1365  1\n",
      "1366  1\n",
      "1367  1\n",
      "1368  1\n",
      "1369  1\n",
      "1370  1\n",
      "1371  1\n",
      "\n",
      "[1372 rows x 1 columns]\n",
      "(1372, 1)\n"
     ]
    }
   ],
   "source": [
    "Y = data[[4]]\n",
    "print(Y)\n",
    "print(Y.shape)"
   ]
  },
  {
   "cell_type": "code",
   "execution_count": 10,
   "metadata": {},
   "outputs": [
    {
     "name": "stdout",
     "output_type": "stream",
     "text": [
      "(1029, 4)\n",
      "(343, 4)\n",
      "(1029, 1)\n",
      "(343, 1)\n"
     ]
    }
   ],
   "source": [
    "from sklearn.model_selection import train_test_split\n",
    "X_train, X_test, Y_train, Y_test = train_test_split(X, Y, test_size=0.25)\n",
    "\n",
    "print(X_train.shape)\n",
    "print(X_test.shape)\n",
    "print(Y_train.shape)\n",
    "print(Y_test.shape)"
   ]
  },
  {
   "cell_type": "code",
   "execution_count": 52,
   "metadata": {},
   "outputs": [
    {
     "name": "stdout",
     "output_type": "stream",
     "text": [
      "1.0\n",
      "0.97667638484\n"
     ]
    }
   ],
   "source": [
    "from sklearn.tree import DecisionTreeClassifier\n",
    "default_tree = DecisionTreeClassifier()\n",
    "default_tree = default_tree.fit(X_train, Y_train)\n",
    "\n",
    "Y_pred_train = default_tree.predict(X_train)\n",
    "Y_pred_test = default_tree.predict(X_test)\n",
    "\n",
    "from sklearn.metrics import accuracy_score\n",
    "print(accuracy_score(Y_train, Y_pred_train))\n",
    "print(accuracy_score(Y_test, Y_pred_test))"
   ]
  },
  {
   "cell_type": "code",
   "execution_count": 53,
   "metadata": {},
   "outputs": [
    {
     "name": "stdout",
     "output_type": "stream",
     "text": [
      "1.0\n",
      "0.997084548105\n"
     ]
    }
   ],
   "source": [
    "from sklearn.tree import DecisionTreeClassifier\n",
    "two_tree = DecisionTreeClassifier(criterion='entropy', max_depth=50)\n",
    "two_tree = two_tree.fit(X_train, Y_train)\n",
    "\n",
    "Y_pred_train = two_tree.predict(X_train)\n",
    "Y_pred_test = two_tree.predict(X_test)\n",
    "\n",
    "from sklearn.metrics import accuracy_score\n",
    "print(accuracy_score(Y_train, Y_pred_train))\n",
    "print(accuracy_score(Y_test, Y_pred_test))"
   ]
  },
  {
   "cell_type": "code",
   "execution_count": 55,
   "metadata": {},
   "outputs": [
    {
     "name": "stdout",
     "output_type": "stream",
     "text": [
      "0.847424684159\n",
      "0.819241982507\n"
     ]
    }
   ],
   "source": [
    "from sklearn.tree import DecisionTreeClassifier\n",
    "three_tree = DecisionTreeClassifier(criterion='entropy', max_depth=50, min_weight_fraction_leaf=0.4)\n",
    "three_tree = three_tree.fit(X_train, Y_train)\n",
    "\n",
    "Y_pred_train = three_tree.predict(X_train)\n",
    "Y_pred_test = three_tree.predict(X_test)\n",
    "\n",
    "from sklearn.metrics import accuracy_score\n",
    "print(accuracy_score(Y_train, Y_pred_train))\n",
    "print(accuracy_score(Y_test, Y_pred_test))"
   ]
  },
  {
   "cell_type": "code",
   "execution_count": 56,
   "metadata": {},
   "outputs": [
    {
     "name": "stdout",
     "output_type": "stream",
     "text": [
      "[ 0.98545455  0.97090909  0.98175182  0.98540146  0.98540146]\n",
      "0.981783676178\n"
     ]
    }
   ],
   "source": [
    "from sklearn.tree import DecisionTreeClassifier\n",
    "default_tree = DecisionTreeClassifier()\n",
    "from sklearn.model_selection import cross_val_score\n",
    "scores = cross_val_score(estimator=default_tree, X=X, y=Y, scoring=\"accuracy\", cv=5)\n",
    "print(scores)\n",
    "print(scores.mean())"
   ]
  },
  {
   "cell_type": "code",
   "execution_count": 57,
   "metadata": {},
   "outputs": [
    {
     "name": "stdout",
     "output_type": "stream",
     "text": [
      "[ 0.97818182  0.98909091  0.99270073  0.98540146  0.99270073]\n",
      "0.987615129396\n"
     ]
    }
   ],
   "source": [
    "from sklearn.tree import DecisionTreeClassifier\n",
    "two_tree = DecisionTreeClassifier(criterion='entropy', max_depth=50)\n",
    "from sklearn.model_selection import cross_val_score\n",
    "scores = cross_val_score(estimator=two_tree, X=X, y=Y, scoring=\"accuracy\", cv=5)\n",
    "print(scores)\n",
    "print(scores.mean())"
   ]
  },
  {
   "cell_type": "code",
   "execution_count": 58,
   "metadata": {},
   "outputs": [
    {
     "name": "stdout",
     "output_type": "stream",
     "text": [
      "[ 0.86181818  0.82181818  0.82116788  0.87956204  0.81751825]\n",
      "0.840376907764\n"
     ]
    }
   ],
   "source": [
    "from sklearn.tree import DecisionTreeClassifier\n",
    "three_tree = DecisionTreeClassifier(criterion='entropy', max_depth=50, min_weight_fraction_leaf=0.4)\n",
    "from sklearn.model_selection import cross_val_score\n",
    "scores = cross_val_score(estimator=three_tree, X=X, y=Y, scoring=\"accuracy\", cv=5)\n",
    "print(scores)\n",
    "print(scores.mean())"
   ]
  },
  {
   "cell_type": "code",
   "execution_count": 61,
   "metadata": {},
   "outputs": [
    {
     "ename": "ModuleNotFoundError",
     "evalue": "No module named 'graphviz'",
     "output_type": "error",
     "traceback": [
      "\u001b[1;31m---------------------------------------------------------------------------\u001b[0m",
      "\u001b[1;31mModuleNotFoundError\u001b[0m                       Traceback (most recent call last)",
      "\u001b[1;32m<ipython-input-61-9418fad5af0c>\u001b[0m in \u001b[0;36m<module>\u001b[1;34m()\u001b[0m\n\u001b[1;32m----> 1\u001b[1;33m \u001b[1;32mimport\u001b[0m \u001b[0mgraphviz\u001b[0m\u001b[1;33m\u001b[0m\u001b[0m\n\u001b[0m\u001b[0;32m      2\u001b[0m \u001b[1;32mimport\u001b[0m \u001b[0msklearn\u001b[0m\u001b[1;33m.\u001b[0m\u001b[0mtree\u001b[0m \u001b[1;32mas\u001b[0m \u001b[0mtree\u001b[0m\u001b[1;33m\u001b[0m\u001b[0m\n\u001b[0;32m      3\u001b[0m dot_data = tree.export_graphviz(default_tree, out_file=None,\n\u001b[0;32m      4\u001b[0m                                 \u001b[0mfilled\u001b[0m\u001b[1;33m=\u001b[0m\u001b[1;32mTrue\u001b[0m\u001b[1;33m,\u001b[0m \u001b[0mrounded\u001b[0m\u001b[1;33m=\u001b[0m\u001b[1;32mTrue\u001b[0m\u001b[1;33m,\u001b[0m\u001b[1;33m\u001b[0m\u001b[0m\n\u001b[0;32m      5\u001b[0m                                 special_characters=True)\n",
      "\u001b[1;31mModuleNotFoundError\u001b[0m: No module named 'graphviz'"
     ]
    }
   ],
   "source": [
    "import graphviz\n",
    "import sklearn.tree as tree\n",
    "dot_data = tree.export_graphviz(default_tree, out_file=None,\n",
    "                                filled=True, rounded=True,\n",
    "                                special_characters=True)\n",
    "graph = graphviz.Source(dot_data)\n",
    "graph"
   ]
  },
  {
   "cell_type": "code",
   "execution_count": 73,
   "metadata": {},
   "outputs": [
    {
     "data": {
      "image/png": "[encoded data removed]",
      "text/plain": [
       "<matplotlib.figure.Figure at 0x23e5be7d390>"
      ]
     },
     "metadata": {},
     "output_type": "display_data"
    }
   ],
   "source": [
    "import numpy as np\n",
    "import matplotlib.pyplot as plt\n",
    "\n",
    "from sklearn.datasets import load_iris\n",
    "from sklearn.tree import DecisionTreeClassifier\n",
    "\n",
    "# Parameters\n",
    "n_classes = 3\n",
    "plot_colors = \"ryb\"\n",
    "plot_step = 0.02\n",
    "\n",
    "for pairidx, pair in enumerate([[0, 1], [0, 2], [0, 3],\n",
    "                                [1, 2], [1, 3], [2, 3]]):\n",
    "    # We only take the two corresponding features\n",
    "    X = data.iloc[:, pair]\n",
    "\n",
    "    # Train\n",
    "    clf = DecisionTreeClassifier(criterion='entropy', max_depth=50).fit(X, Y)\n",
    "\n",
    "    # Plot the decision boundary\n",
    "    plt.subplot(2, 3, pairidx + 1)\n",
    "\n",
    "    x_min, x_max = X.iloc[:, 0].min() - 1, X.iloc[:, 0].max() + 1\n",
    "    y_min, y_max = X.iloc[:, 1].min() - 1, X.iloc[:, 1].max() + 1\n",
    "    xx, yy = np.meshgrid(np.arange(x_min, x_max, plot_step),\n",
    "                         np.arange(y_min, y_max, plot_step))\n",
    "    plt.tight_layout(h_pad=0.5, w_pad=0.5, pad=2.5)\n",
    "\n",
    "    Z = clf.predict(np.c_[xx.ravel(), yy.ravel()])\n",
    "    Z = Z.reshape(xx.shape)\n",
    "    cs = plt.contourf(xx, yy, Z, cmap=plt.cm.RdYlBu)\n",
    "\n",
    "    # Plot the training points\n",
    "    for i, color in zip(range(n_classes), plot_colors):\n",
    "        idx = np.where(Y == i)\n",
    "        plt.scatter(X.values[idx, 0], X.values[idx, 1], c=color,\n",
    "                    cmap=plt.cm.RdYlBu, edgecolor='black', s=15)\n",
    "\n",
    "plt.suptitle(\"Decision surface of a decision tree using paired features\")\n",
    "plt.axis(\"tight\")\n",
    "plt.show()"
   ]
  },
  {
   "cell_type": "code",
   "execution_count": null,
   "metadata": {
    "collapsed": true
   },
   "outputs": [],
   "source": []
  }
 ],
 "metadata": {
  "kernelspec": {
   "display_name": "Python 3",
   "language": "python",
   "name": "python3"
  },
  "language_info": {
   "codemirror_mode": {
    "name": "ipython",
    "version": 3
   },
   "file_extension": ".py",
   "mimetype": "text/x-python",
   "name": "python",
   "nbconvert_exporter": "python",
   "pygments_lexer": "ipython3",
   "version": "3.6.3"
  }
 },
 "nbformat": 4,
 "nbformat_minor": 1
}
